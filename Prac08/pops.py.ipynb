{
 "cells": [
  {
   "cell_type": "code",
   "execution_count": 5,
   "id": "intense-aerospace",
   "metadata": {},
   "outputs": [
    {
     "name": "stdout",
     "output_type": "stream",
     "text": [
      "6100877\n",
      "New South Wales\n",
      "Victoria\n",
      "Queensland\n",
      "South Australia\n",
      "Western Australia\n",
      "Tasania\n",
      "Northern Territory\n",
      "Australian Capital Terrirotry\n",
      "New South Wales  :  7757843\n",
      "Victoria  :  6100877\n",
      "Queensland  :  4860448\n",
      "South Australia  :  1710804\n",
      "Western Australia  :  2623164\n",
      "Tasania  :  519783\n",
      "Northern Territory  :  245657\n",
      "Australian Capital Terrirotry  :  398349\n"
     ]
    }
   ],
   "source": [
    "pops = {'New South Wales': 7757843,\n",
    "        'Victoria' : 6100877,\n",
    "        'Queensland' : 4860448,\n",
    "        'South Australia' : 1710804,\n",
    "        'Western Australia' : 2623164,\n",
    "        'Tasania' : 519783,\n",
    "        'Northern Territory' : 245657,\n",
    "        'Australian Capital Terrirotry' : 398349}\n",
    "print(pops['Victoria'])\n",
    "for p in pops:\n",
    "    print(p)\n",
    "for k in pops.keys():\n",
    "    print(k, ' : ', pops[k])\n"
   ]
  },
  {
   "cell_type": "code",
   "execution_count": 6,
   "id": "contained-ethnic",
   "metadata": {},
   "outputs": [
    {
     "name": "stdout",
     "output_type": "stream",
     "text": [
      "24216925\n"
     ]
    }
   ],
   "source": [
    "popsum = 0\n",
    "for k in pops.keys():\n",
    "    popsum += pops[k]\n",
    "print(popsum)\n",
    "    "
   ]
  },
  {
   "cell_type": "code",
   "execution_count": 7,
   "id": "lonely-performance",
   "metadata": {},
   "outputs": [
    {
     "name": "stdout",
     "output_type": "stream",
     "text": [
      "South Australia  :  1710804\n",
      "Western Australia  :  2623164\n",
      "Tasania  :  519783\n",
      "Northern Territory  :  245657\n",
      "Australian Capital Terrirotry  :  398349\n"
     ]
    }
   ],
   "source": [
    "for k in pops.keys():\n",
    "    if pops[k] < 3000000:\n",
    "        print(k, ' : ', pops[k])"
   ]
  },
  {
   "cell_type": "code",
   "execution_count": 8,
   "id": "strong-element",
   "metadata": {},
   "outputs": [
    {
     "ename": "KeyError",
     "evalue": "'New Zealand'",
     "output_type": "error",
     "traceback": [
      "\u001b[0;31m---------------------------------------------------------------------------\u001b[0m",
      "\u001b[0;31mKeyError\u001b[0m                                  Traceback (most recent call last)",
      "\u001b[0;32m<ipython-input-8-4f1f704b7d5d>\u001b[0m in \u001b[0;36m<module>\u001b[0;34m\u001b[0m\n\u001b[0;32m----> 1\u001b[0;31m \u001b[0mprint\u001b[0m\u001b[0;34m(\u001b[0m\u001b[0mpops\u001b[0m\u001b[0;34m[\u001b[0m\u001b[0;34m'New Zealand'\u001b[0m\u001b[0;34m]\u001b[0m\u001b[0;34m)\u001b[0m\u001b[0;34m\u001b[0m\u001b[0;34m\u001b[0m\u001b[0m\n\u001b[0m",
      "\u001b[0;31mKeyError\u001b[0m: 'New Zealand'"
     ]
    }
   ],
   "source": [
    "\n",
    "print(pops['New Zealand'])"
   ]
  },
  {
   "cell_type": "code",
   "execution_count": null,
   "id": "billion-opportunity",
   "metadata": {},
   "outputs": [],
   "source": []
  }
 ],
 "metadata": {
  "kernelspec": {
   "display_name": "Python 3",
   "language": "python",
   "name": "python3"
  },
  "language_info": {
   "codemirror_mode": {
    "name": "ipython",
    "version": 3
   },
   "file_extension": ".py",
   "mimetype": "text/x-python",
   "name": "python",
   "nbconvert_exporter": "python",
   "pygments_lexer": "ipython3",
   "version": "3.9.2"
  }
 },
 "nbformat": 4,
 "nbformat_minor": 5
}
