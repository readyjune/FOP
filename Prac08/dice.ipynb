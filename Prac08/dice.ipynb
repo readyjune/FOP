{
 "cells": [
  {
   "cell_type": "code",
   "execution_count": null,
   "id": "enclosed-conservative",
   "metadata": {},
   "outputs": [],
   "source": [
    "import random\n",
    "import matplotlib.pyplot as plt\n",
    "\n",
    "dicecount = {1:0, 2:0, 3:0, 4:0, 5:0, 6:0}\n",
    "\n",
    "for i in range(1000):\n",
    "    toss = random.randint(1,6)\n",
    "    dicecount[toss] += 1\n",
    "    \n",
    "plt.bar(dicecount.keys(), dicecount.values(), color=\"g\")\n",
    "plt.title(\"Dice Rolls (1000)\")\n",
    "plt.xlabel(\"Number\")\n",
    "plt.ylabel(\"Count\")\n",
    "plt.savefig(\"dice.png\")\n",
    "plt.show()"
   ]
  },
  {
   "cell_type": "code",
   "execution_count": null,
   "id": "warming-bunch",
   "metadata": {},
   "outputs": [],
   "source": [
    "run tuple.ipynb"
   ]
  },
  {
   "cell_type": "code",
   "execution_count": null,
   "id": "common-affairs",
   "metadata": {},
   "outputs": [],
   "source": [
    "print(\n",
    ")"
   ]
  }
 ],
 "metadata": {
  "kernelspec": {
   "display_name": "Python 3",
   "language": "python",
   "name": "python3"
  },
  "language_info": {
   "codemirror_mode": {
    "name": "ipython",
    "version": 3
   },
   "file_extension": ".py",
   "mimetype": "text/x-python",
   "name": "python",
   "nbconvert_exporter": "python",
   "pygments_lexer": "ipython3",
   "version": "3.9.2"
  }
 },
 "nbformat": 4,
 "nbformat_minor": 5
}
