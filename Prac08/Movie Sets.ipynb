{
 "cells": [
  {
   "cell_type": "code",
   "execution_count": 10,
   "id": "brown-percentage",
   "metadata": {},
   "outputs": [
    {
     "name": "stdout",
     "output_type": "stream",
     "text": [
      "{'John', 'Terry', 'Michael', 'Eric', 'Graham'}\n",
      "{'Bill', 'Tim', 'Graham'}\n",
      "{'John', 'Jamie', 'Kevin', 'Michael'}\n",
      "{'John', 'Peter', 'Madeline', 'Martin', 'Eric', 'Graham', 'Marty'}\n",
      "{'John', 'Tim', 'Graham', 'Marty'}\n",
      "{'Michael', 'Terry', 'Graham', 'Eric'}\n",
      "{'John', 'Eric', 'Graham'}\n",
      "{'Tim', 'Graham'}\n",
      "{'John', 'Tim', 'Bill', 'Graham', 'Marty'}\n",
      "{'John', 'Jamie', 'Michael', 'Eric', 'Graham', 'Terry', 'Kevin'}\n",
      "{'Jamie', 'Madeline', 'Peter', 'Martin', 'Kevin'}\n"
     ]
    }
   ],
   "source": [
    "Pythons={\"Eric\", \"John\", \"Terry\", \"Michael\", \"Terry\", \"Graham\"}\n",
    "Goodies={\"Bill\", \"Tim\", \"Graham\"}\n",
    "Wandas={\"John\", \"Jamie\", \"Kevin\", \"Michael\"}\n",
    "Yellowbeards={\"Graham\", \"Peter\", \"Marty\", \"Eric\", \"Martin\", \"Madeline\", \"John\"}\n",
    "Yorkshiremen={\"Tim\", \"John\", \"Graham\", \"Marty\"}\n",
    "Yorkshiremen2={\"Terry\", \"Michael\", \"Eric\", \"Graham\", \"Graham\"}\n",
    "file1 = set.intersection(Pythons, Yellowbeards)\n",
    "file2 = set.intersection(Goodies, Yorkshiremen)\n",
    "file3 = set.union(Goodies, Yorkshiremen)\n",
    "file4 = set.union(Pythons, Wandas)\n",
    "\n",
    "file5 = set.union(Yellowbeards, Wandas)\n",
    "file6 = set.union(Yorkshiremen, Yorkshiremen2)\n",
    "file7 = file5.difference(file6)\n",
    "\n",
    "print(Pythons)\n",
    "print(Goodies)\n",
    "print(Wandas)\n",
    "print(Yellowbeards)\n",
    "print(Yorkshiremen)\n",
    "print(Yorkshiremen2)\n",
    "\n",
    "print(file1)\n",
    "print(file2)\n",
    "print(file3)\n",
    "print(file4)\n",
    "print(file7)"
   ]
  },
  {
   "cell_type": "code",
   "execution_count": null,
   "id": "julian-context",
   "metadata": {},
   "outputs": [],
   "source": []
  }
 ],
 "metadata": {
  "kernelspec": {
   "display_name": "Python 3",
   "language": "python",
   "name": "python3"
  },
  "language_info": {
   "codemirror_mode": {
    "name": "ipython",
    "version": 3
   },
   "file_extension": ".py",
   "mimetype": "text/x-python",
   "name": "python",
   "nbconvert_exporter": "python",
   "pygments_lexer": "ipython3",
   "version": "3.9.2"
  }
 },
 "nbformat": 4,
 "nbformat_minor": 5
}
