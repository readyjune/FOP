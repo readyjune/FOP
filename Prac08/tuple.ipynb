{
 "cells": [
  {
   "cell_type": "markdown",
   "id": "allied-campbell",
   "metadata": {},
   "source": [
    "Testing out jupyter notebook with Tuple task"
   ]
  },
  {
   "cell_type": "code",
   "execution_count": 55,
   "id": "documentary-flight",
   "metadata": {},
   "outputs": [
    {
     "name": "stdout",
     "output_type": "stream",
     "text": [
      "('spam', 'eggs', 42)\n",
      "(1, 4, 9, 16, 25)\n",
      "('yes', 'oui', 'ja', 'si')\n",
      "9\n",
      "(1, 4, 9, 16, 25, 'yes', 'oui', 'ja', 'si')\n",
      "(4, 9, 16, 25, 'yes', 'oui', 'ja')\n",
      "[1, 4, 9, 16, 25, 36, 49, 64, 81, 100]\n",
      "(1, 4, 9, 16, 25, 36, 49, 64, 81, 100)\n",
      "<class 'tuple'>\n"
     ]
    }
   ],
   "source": [
    "tup1 =('spam', 'eggs', 42)\n",
    "tup2 =(1, 4, 9, 16, 25)\n",
    "tup3 =\"yes\", \"oui\", \"ja\", \"si\"\n",
    "tup4 = tup2 + tup3\n",
    "tup5 = [ii ** 2 for ii in range(1,11)]\n",
    "\n",
    "\n",
    "print(tup1)\n",
    "print(tup2)\n",
    "print(tup3)\n",
    "print(len(tup4))\n",
    "\n",
    "print(tup4)\n",
    "tup4 = tup4[1:-1]\n",
    "print(tup4)\n",
    "\n",
    "\n",
    "\n",
    "print(tup5)\n",
    "tup5=tuple(tup5)\n",
    "print(tup5)\n",
    "print(type(tup5))"
   ]
  },
  {
   "cell_type": "code",
   "execution_count": null,
   "id": "peaceful-plymouth",
   "metadata": {},
   "outputs": [],
   "source": []
  },
  {
   "cell_type": "code",
   "execution_count": null,
   "id": "amazing-program",
   "metadata": {},
   "outputs": [],
   "source": []
  }
 ],
 "metadata": {
  "kernelspec": {
   "display_name": "Python 3",
   "language": "python",
   "name": "python3"
  },
  "language_info": {
   "codemirror_mode": {
    "name": "ipython",
    "version": 3
   },
   "file_extension": ".py",
   "mimetype": "text/x-python",
   "name": "python",
   "nbconvert_exporter": "python",
   "pygments_lexer": "ipython3",
   "version": "3.9.2"
  }
 },
 "nbformat": 4,
 "nbformat_minor": 5
}
